{
 "cells": [
  {
   "cell_type": "markdown",
   "metadata": {},
   "source": [
    "# Task 1A: Build a Fully Connected 2 - Layer Neural Network to Classify Digits\n",
    "\n",
    "This notebook will serve as implementation of the API that you have created in your \"Code\" folder. You will write functions in the \"py\" files and use them here.\n",
    "\n",
    "We will be using inbuilt MNIST dataset present in PyTorch and train a neural network to classify digits. "
   ]
  },
  {
   "cell_type": "markdown",
   "metadata": {},
   "source": [
    "## What is expected from this notebook?\n",
    "\n",
    "This notebook should be used to present your work. You should explain wherever necessary (but also not too much) about what you did and why you did it. You should explain things like hyper parameter settings (even if it was provided before hand to you by us), training performance and testing performance of the model. You should reason why your model is working fine and not overfitting.\n",
    "\n",
    "Since numbers don't are an argot, you should also use visualizations wherever possible. You can visualize things like loss curve, show confusion matrix, etc. \n",
    "\n",
    "Finally, you can show some manual verifications by displaying and making predictions on random test examples. \n",
    "\n",
    "**NOTE: The amount of things you can do in this notebook is limitless (hyperbole). But don't do too much at the cost of rest of your tasks. Remember to maintain the outputs while submitting this notebook.**"
   ]
  },
  {
   "cell_type": "markdown",
   "metadata": {},
   "source": [
    "## Absolutely required items?\n",
    "\n",
    "1. First of all, import the libraries and the dataset.\n",
    "2. Next, show dataset samples and distribution of different type of data. For example, in case of MNIST you can show some random images and their labels. Also, show distribution of each class of images.\n",
    "3. Next, perform required transformations on MNIST dataset (normalization, scaling, grayscaling if required, etc) using torchvision transforms.\n",
    "4. Create required dataloaders on PyTorch MNIST dataset to load data in mini-batches.\n",
    "5. Train the model, show loss and accuracy at each step of operation.\n",
    "6. Plot the **loss curve for both train and validation phase**\n",
    "7. Pick some manual random images from test dataset and predict their values **showing expected and actual result**.\n",
    "\n",
    "**NOTE: You may or may not delete these instruction cells after completion of the notebook.**"
   ]
  },
  {
   "cell_type": "markdown",
   "metadata": {},
   "source": [
    "# Your solution"
   ]
  },
  {
   "cell_type": "code",
   "execution_count": 7,
   "metadata": {},
   "outputs": [],
   "source": [
    "# Homecoming (eYRC-2018): Task 1A\n",
    "# Build a Fully Connected 2-Layer Neural Network to Classify Digits\n",
    "\n",
    "from nnet import model\n",
    "from nnet import activation, loss, model, optimizer\n",
    "import sys\n",
    "import os\n",
    "import math\n",
    "import copy\n",
    "import matplotlib.pyplot as plt\n",
    "\n",
    "# Import torch and torchvision libraries\n",
    "# We will use torchvision's transforms and datasets\n",
    "\n",
    "import torch\n",
    "import torchvision\n",
    "import torchvision.datasets as dset\n",
    "import torchvision.transforms as transforms\n"
   ]
  },
  {
   "cell_type": "code",
   "execution_count": 8,
   "metadata": {
    "scrolled": true
   },
   "outputs": [],
   "source": [
    "#FUNCTION TO SHOW IMAGE\n",
    "import numpy as np\n",
    "# NUMPY IS IMPORTED \"ONLY TO DISPLAY SAMPLE IMAGES\". IT IS NOT USED FOR MATHEMATICAL OPERATIONS IN THE .PY FILES\n",
    "def imshow(image):\n",
    "    image = image / 2 + 0.5 \n",
    "    npimage = image.numpy()\n",
    "    plt.imshow(np.transpose(npimage, (1, 2, 0)))\n",
    "    \n",
    "#DEFINING CLASSES OF TRAINING SET\n",
    "classes=('0','1','2','3','4','5','6','7','8','9')\n"
   ]
  },
  {
   "cell_type": "code",
   "execution_count": 9,
   "metadata": {},
   "outputs": [],
   "source": [
    "# Defining torchvision transforms for preprocessing\n",
    "# Using torchvision datasets to load MNIST\n",
    "# Using torch.utils.data.DataLoader to create loaders for train and test\n",
    "# training batch size = 4 in train data loader.\n",
    "\n",
    "trans = transforms.Compose([transforms.ToTensor(), transforms.Normalize((0.5,), (1.0,))])\n",
    "# Here the parameters to Normalize are mean=0.5 and standard deviation=1\n",
    "train_set = dset.MNIST(root='./data', train=True, transform=trans, download=True)\n",
    "test_set = dset.MNIST(root='./data', train=False, transform=trans, download=True)\n",
    "\n",
    "batch_size=4\n",
    "# Creating dataloaders\n",
    "train_loader = torch.utils.data.DataLoader(dataset=train_set,batch_size=batch_size,shuffle=True)\n",
    "test_loader = torch.utils.data.DataLoader(dataset=test_set,batch_size=batch_size,shuffle=False)\n"
   ]
  },
  {
   "cell_type": "code",
   "execution_count": 10,
   "metadata": {},
   "outputs": [
    {
     "name": "stdout",
     "output_type": "stream",
     "text": [
      "SAMPLE 4 LABELS =\n",
      "['1', '6', '8', '8']\n"
     ]
    },
    {
     "data": {
      "image/png": "[encoded data removed]",
      "text/plain": [
       "<Figure size 432x288 with 1 Axes>"
      ]
     },
     "metadata": {
      "needs_background": "light"
     },
     "output_type": "display_data"
    }
   ],
   "source": [
    "#ITERATING TO TRAINING SET AND SELECTING SOME RANDOM IMAGES AS MINI BATCH AND PLOTTING THOSE IMAGES\n",
    "traindata=iter(train_loader)\n",
    "images,labels=traindata.next()\n",
    "print(\"SAMPLE\",batch_size,\"LABELS =\")\n",
    "print(u\"{}\".format([classes[labels[j]] for j in range(batch_size)]))\n",
    "imshow(torchvision.utils.make_grid(images))"
   ]
  },
  {
   "cell_type": "code",
   "execution_count": 11,
   "metadata": {},
   "outputs": [
    {
     "name": "stdout",
     "output_type": "stream",
     "text": [
      "TRAINING STARTED\n",
      "loss:  1.9951363801956177\n",
      "accuracy:  0.5\n",
      "loss:  1.34600830078125\n",
      "accuracy:  0.5\n",
      "loss:  0.6154571771621704\n",
      "accuracy:  1.0\n",
      "loss:  0.690331220626831\n",
      "accuracy:  0.75\n",
      "loss:  0.24267719686031342\n",
      "accuracy:  1.0\n",
      "loss:  0.17662155628204346\n",
      "accuracy:  1.0\n",
      "loss:  0.12684671580791473\n",
      "accuracy:  1.0\n",
      "TRAINING FINISHED\n"
     ]
    },
    {
     "data": {
      "image/png": "[encoded data removed]",
      "text/plain": [
       "<Figure size 432x288 with 1 Axes>"
      ]
     },
     "metadata": {
      "needs_background": "light"
     },
     "output_type": "display_data"
    }
   ],
   "source": [
    "device = \"cuda:0\" if torch.cuda.is_available() else \"cpu\"\n",
    "\n",
    "# Layer size\n",
    "N_in = 28 * 28 # Input size\n",
    "N_h1 = 256 # Hidden Layer 1 size\n",
    "N_h2 = 256 # Hidden Layer 2 size\n",
    "N_out = 10 # Output size\n",
    "# Learning rate\n",
    "lr = 0.001\n",
    "\n",
    "# init model\n",
    "net = model.FullyConnected(N_in, N_h1, N_h2, N_out, device=device)\n",
    "\n",
    "# number of epochs\n",
    "N_epoch = 7 \n",
    "\n",
    "losses=[]\n",
    "print(\"TRAINING STARTED\")\n",
    "for epoch in range(N_epoch):\n",
    "    for batch_idx, (inputs, labels) in enumerate(train_loader):\n",
    "        inputs=inputs.view(-1,N_in)   \n",
    "        net.train(inputs,labels,lr)\n",
    "    k, s, creloss, accuracy, outputs=net.eval(inputs, labels, debug=True)\n",
    "    losses.append(creloss)\n",
    "print(\"TRAINING FINISHED\")\n",
    "plt.plot(losses)\n",
    "plt.savefig(\"losses.png\", trasparent = True)"
   ]
  },
  {
   "cell_type": "code",
   "execution_count": 12,
   "metadata": {},
   "outputs": [
    {
     "name": "stdout",
     "output_type": "stream",
     "text": [
      "PREDICTING FOR TEST INPUTS\n",
      "Accuracy for the given test case: 89.03 %\n"
     ]
    },
    {
     "data": {
      "image/png": "[encoded data removed]",
      "text/plain": [
       "<Figure size 432x288 with 1 Axes>"
      ]
     },
     "metadata": {
      "needs_background": "light"
     },
     "output_type": "display_data"
    }
   ],
   "source": [
    "S=0 # total number of test cases \n",
    "K=0 # number of test cases correctly predicted \n",
    "print(\"PREDICTING FOR TEST INPUTS\")\n",
    "test_losses=[]\n",
    "class_count={'0':0,'1':0,'2':0,'3':0,'4':0,'5':0,'6':0,'7':0,'8':0,'9':0}\n",
    "total_count={'0':0,'1':0,'2':0,'3':0,'4':0,'5':0,'6':0,'7':0,'8':0,'9':0}\n",
    "for batch_idx, (inputs, labels) in enumerate(test_loader):\n",
    "    inputs = inputs.view(-1, N_in)\n",
    "    score, idx = net.predict(inputs)\n",
    "    for j in range(idx.size(0)):\n",
    "        total_count[str(int(labels[j]))]+=1\n",
    "        if(idx[j]==labels[j]):\n",
    "            class_count[str(int(labels[j]))]+=1\n",
    "    #print(\"Score : \", score)\n",
    "    #print(\"Index : \", idx,\"Labels : \",labels)\n",
    "    k, s, creloss, accuracy, outputs=net.eval(inputs, labels)\n",
    "    test_losses.append(creloss)\n",
    "    # update after each batch\n",
    "    S+=s \n",
    "    K+=k\n",
    "print(\"Accuracy for the given test case:\", 100*K/S,\"%\")\n",
    "plt.plot(test_losses)\n",
    "plt.savefig(\"test_losses.png\", transparent = True)"
   ]
  },
  {
   "cell_type": "code",
   "execution_count": 13,
   "metadata": {},
   "outputs": [
    {
     "name": "stdout",
     "output_type": "stream",
     "text": [
      "{'0': 956, '1': 1103, '2': 861, '3': 879, '4': 903, '5': 737, '6': 878, '7': 908, '8': 807, '9': 871}\n",
      "{'0': 980, '1': 1135, '2': 1032, '3': 1010, '4': 982, '5': 892, '6': 958, '7': 1028, '8': 974, '9': 1009}\n"
     ]
    }
   ],
   "source": [
    "print(class_count)\n",
    "print(total_count)"
   ]
  },
  {
   "cell_type": "code",
   "execution_count": 14,
   "metadata": {},
   "outputs": [
    {
     "name": "stdout",
     "output_type": "stream",
     "text": [
      "Accuracy for 0 = 97.55102040816327 %\n",
      "Accuracy for 1 = 97.18061674008811 %\n",
      "Accuracy for 2 = 83.43023255813954 %\n",
      "Accuracy for 3 = 87.02970297029702 %\n",
      "Accuracy for 4 = 91.95519348268839 %\n",
      "Accuracy for 5 = 82.62331838565022 %\n",
      "Accuracy for 6 = 91.64926931106471 %\n",
      "Accuracy for 7 = 88.32684824902724 %\n",
      "Accuracy for 8 = 82.85420944558521 %\n",
      "Accuracy for 9 = 86.32309217046581 %\n"
     ]
    }
   ],
   "source": [
    "for i in range(N_out):\n",
    "    print(\"Accuracy for\", str(i),\"=\",class_count[str(i)]/total_count[str(i)]*100,\"%\")"
   ]
  },
  {
   "cell_type": "code",
   "execution_count": 31,
   "metadata": {},
   "outputs": [],
   "source": [
    "from io import open\n",
    "import os\n",
    "from PIL import Image\n",
    "import PIL.ImageOps\n",
    "#FUNCTION TO PREDICT IMAGE\n",
    "def predict_image(image_path):\n",
    "    print(\"PREDICTION OF CUSTOM IMAGE IS IN PROGRESS\")\n",
    "    \"\"\"net=Net()\n",
    "    #LOAD MODEL\n",
    "    net.load_state_dict(torch.load(\"HC#3266_stage1.model\"))\"\"\"\n",
    "    #RESIZE CUSTOM IMAGE TO 100 INTO 100 PIXELS IMAGE\n",
    "    desired_size=28\n",
    "    im1 = Image.open(image_path)\n",
    "    im = PIL.ImageOps.invert(im1)\n",
    "    im.save('new.jpg')\n",
    "    old_size = im.size\n",
    "    ratio = float(desired_size)/max(old_size)\n",
    "    new_size = tuple([int(x*ratio) for x in old_size])\n",
    "    im = im.resize(new_size, Image.ANTIALIAS)\n",
    "    new_im = Image.new(\"L\", (desired_size, desired_size))\n",
    "    new_im.paste(im, ((desired_size-new_size[0])//2 , (desired_size-new_size[1])//2) )\n",
    "    new_im.show()\n",
    "    transformation = transforms.Compose([transforms.ToTensor(),transforms.Normalize((0.5,), (1.0,))])\n",
    "    image_tensor = transformation(new_im).float()\n",
    "    \"\"\"if torch.cuda.is_available():\n",
    "        image_tensor.cuda()\"\"\"\n",
    "    image_tensor_input=image_tensor.view(-1,N_in)\n",
    "    print(image_tensor_input.size())\n",
    "    \n",
    "    \n",
    "    \n",
    "    imshow(torchvision.utils.make_grid(image_tensor))\n",
    "    score,idx=net.predict(image_tensor_input)\n",
    "    print(\"prediction:  \",idx.item())\n",
    "   "
   ]
  },
  {
   "cell_type": "code",
   "execution_count": 32,
   "metadata": {},
   "outputs": [
    {
     "name": "stdout",
     "output_type": "stream",
     "text": [
      "PREDICTION OF CUSTOM IMAGE IS IN PROGRESS\n",
      "torch.Size([1, 784])\n",
      "prediction:   6\n"
     ]
    },
    {
     "data": {
      "image/png": "[encoded data removed]",
      "text/plain": [
       "<Figure size 432x288 with 1 Axes>"
      ]
     },
     "metadata": {
      "needs_background": "light"
     },
     "output_type": "display_data"
    }
   ],
   "source": [
    "imagefile = \"images.jpg\"\n",
    "#CUSTOM IMAGE PATH\n",
    "imagepath = os.path.join(os.getcwd(), imagefile)\n",
    "predict_image(imagepath)"
   ]
  },
  {
   "cell_type": "code",
   "execution_count": 33,
   "metadata": {},
   "outputs": [
    {
     "name": "stdout",
     "output_type": "stream",
     "text": [
      "PREDICTION OF CUSTOM IMAGE IS IN PROGRESS\n",
      "torch.Size([1, 784])\n",
      "prediction:   3\n"
     ]
    },
    {
     "data": {
      "image/png": "[encoded data removed]",
      "text/plain": [
       "<Figure size 432x288 with 1 Axes>"
      ]
     },
     "metadata": {
      "needs_background": "light"
     },
     "output_type": "display_data"
    }
   ],
   "source": [
    "imagefile2 = \"download.jpg\"\n",
    "#CUSTOM IMAGE PATH\n",
    "imagepath2 = os.path.join(os.getcwd(), imagefile2)\n",
    "predict_image(imagepath2)"
   ]
  },
  {
   "cell_type": "code",
   "execution_count": 34,
   "metadata": {},
   "outputs": [
    {
     "name": "stdout",
     "output_type": "stream",
     "text": [
      "PREDICTION OF CUSTOM IMAGE IS IN PROGRESS\n",
      "torch.Size([1, 784])\n",
      "prediction:   7\n"
     ]
    },
    {
     "data": {
      "image/png": "[encoded data removed]",
      "text/plain": [
       "<Figure size 432x288 with 1 Axes>"
      ]
     },
     "metadata": {
      "needs_background": "light"
     },
     "output_type": "display_data"
    }
   ],
   "source": [
    "imagefile3 = \"download1.jpg\"\n",
    "#CUSTOM IMAGE PATH\n",
    "imagepath3 = os.path.join(os.getcwd(), imagefile3)\n",
    "predict_image(imagepath3)"
   ]
  },
  {
   "cell_type": "code",
   "execution_count": 35,
   "metadata": {},
   "outputs": [
    {
     "name": "stdout",
     "output_type": "stream",
     "text": [
      "PREDICTION OF CUSTOM IMAGE IS IN PROGRESS\n",
      "torch.Size([1, 784])\n",
      "prediction:   4\n"
     ]
    },
    {
     "data": {
      "image/png": "[encoded data removed]",
      "text/plain": [
       "<Figure size 432x288 with 1 Axes>"
      ]
     },
     "metadata": {
      "needs_background": "light"
     },
     "output_type": "display_data"
    }
   ],
   "source": [
    "imagefile4= \"5.jpg\"\n",
    "#CUSTOM IMAGE PATH\n",
    "imagepath4 = os.path.join(os.getcwd(), imagefile4)\n",
    "predict_image(imagepath4)"
   ]
  },
  {
   "cell_type": "code",
   "execution_count": 40,
   "metadata": {},
   "outputs": [
    {
     "name": "stdout",
     "output_type": "stream",
     "text": [
      "PREDICTION OF CUSTOM IMAGE IS IN PROGRESS\n",
      "torch.Size([1, 784])\n",
      "prediction:   9\n"
     ]
    },
    {
     "data": {
      "image/png": "[encoded data removed]",
      "text/plain": [
       "<Figure size 432x288 with 1 Axes>"
      ]
     },
     "metadata": {
      "needs_background": "light"
     },
     "output_type": "display_data"
    }
   ],
   "source": [
    "imagefile5 = \"9.jpg\"\n",
    "#CUSTOM IMAGE PATH\n",
    "imagepath5 = os.path.join(os.getcwd(), imagefile5)\n",
    "predict_image(imagepath5)"
   ]
  },
  {
   "cell_type": "code",
   "execution_count": null,
   "metadata": {},
   "outputs": [],
   "source": []
  }
 ],
 "metadata": {
  "kernelspec": {
   "display_name": "Python 3",
   "language": "python",
   "name": "python3"
  },
  "language_info": {
   "codemirror_mode": {
    "name": "ipython",
    "version": 3
   },
   "file_extension": ".py",
   "mimetype": "text/x-python",
   "name": "python",
   "nbconvert_exporter": "python",
   "pygments_lexer": "ipython3",
   "version": "3.6.7"
  }
 },
 "nbformat": 4,
 "nbformat_minor": 2
}
