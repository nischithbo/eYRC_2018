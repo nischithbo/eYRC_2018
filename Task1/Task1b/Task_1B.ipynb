{
 "cells": [
  {
   "cell_type": "markdown",
   "metadata": {},
   "source": [
    "# Task 1B: Fruit classification with a CNN\n",
    "\n",
    "This notebook will serve as implementation of the API that you have created in your \"Code\" folder. You will write functions in the \"py\" files and use them here.\n",
    "\n",
    "We will be using \"Fruits\" dataset present in PyTorch and train a convolutional neural network (CNN) to classify digits.\n"
   ]
  },
  {
   "cell_type": "markdown",
   "metadata": {},
   "source": [
    "## What is expected from this notebook?\n",
    "\n",
    "This notebook should be used to present your work. You should explain wherever necessary (but also not too much) about what you did and why you did it. You should explain things like hyper parameter settings (even if it was provided before hand to you by us), training performance and testing performance of the model. You should reason why your model is working fine and not overfitting.\n",
    "\n",
    "Since numbers don't are an argot, you should also use visualizations wherever possible. You can visualize things like **loss curve**, show **confusion matrix** and since this is a CNN you can also consider **advance techniques like gradcam**, etc. \n",
    "\n",
    "You can also use techniques that allow for faster training, assuage problems involving vanishing and exploding gradients. \n",
    "\n",
    "Finally, you can show some manual verifications by displaying and making predictions on random test examples. "
   ]
  },
  {
   "cell_type": "markdown",
   "metadata": {},
   "source": [
    "## Absolutely required items?\n",
    "\n",
    "1. First of all, import the libraries and the dataset. Divide the dataset into test and train.\n",
    "2. Next, show dataset samples and distribution of different type of data. For example, in case of \"Fruits Dataset\" you can show some random images and their labels. Also, show distribution of each class of images.\n",
    "3. Next, perform required transformations (also **data augmentation**) on \"Fruits dataset\" (normalization, resizing, grayscaling, if required, etc.) using torchvision transforms.\n",
    "4. Create required dataloaders with PyTorch and use the module dataset we created to load data in mini-batches.\n",
    "5. Train the model, show loss and accuracy at each step of operation.\n",
    "6. Plot the **loss curve for both train and validation phase**.\n",
    "7. Pick some manual random images (probably 7-10) from test dataset and predict their values showing **expected and actual result**. \n",
    "\n",
    "**NOTE: ** \n",
    "1. You may or may not choose to delete these instruction cells after completion of the notebook.\n",
    "2. Keep the outputs of the cells."
   ]
  },
  {
   "cell_type": "code",
   "execution_count": null,
   "metadata": {},
   "outputs": [],
   "source": [
    "from utils import dataset\n",
    "# import other required libraries here"
   ]
  },
  {
   "cell_type": "code",
   "execution_count": null,
   "metadata": {},
   "outputs": [],
   "source": [
    "# loading dataframes using dataset module \n",
    "df, df_train, df_test = dataset.create_and_load_meta_csv_df(dataset_path='../Data/fruits/', dest='../Data/fruits/', randomize=True, split=0.8)"
   ]
  },
  {
   "cell_type": "code",
   "execution_count": null,
   "metadata": {},
   "outputs": [],
   "source": [
    "# using dataframes, pytorch and torchvision to transform data. Also, use dataloaders for batching, shuffling, etc.  \n",
    "data_transforms = {\n",
    "    'train': transforms.Compose([\n",
    "        # add transforms here\n",
    "    ]),\n",
    "    'val': transforms.Compose([\n",
    "        # add transforms here\n",
    "    ]),\n",
    "}\n",
    "\n",
    "image_datasets = {'train': dataset.ImageDataset(df_train, transform=data_transforms['train']), \n",
    "                  'val': dataset.ImageDataset(df_test, transform=data_transforms['val'])}\n",
    "\n",
    "dataloaders = # make data loaders"
   ]
  },
  {
   "cell_type": "code",
   "execution_count": 7,
   "metadata": {},
   "outputs": [
    {
     "name": "stdout",
     "output_type": "stream",
     "text": [
      "<class 'str'>\n"
     ]
    }
   ],
   "source": [
    "# do rest of the things as mentioned in the above points\n",
    "import torch\n",
    "t=torch.tensor([1,2,3,4])\n",
    "print(type(str((t[0]))))"
   ]
  },
  {
   "cell_type": "code",
   "execution_count": null,
   "metadata": {},
   "outputs": [],
   "source": []
  }
 ],
 "metadata": {
  "kernelspec": {
   "display_name": "Python 3",
   "language": "python",
   "name": "python3"
  },
  "language_info": {
   "codemirror_mode": {
    "name": "ipython",
    "version": 3
   },
   "file_extension": ".py",
   "mimetype": "text/x-python",
   "name": "python",
   "nbconvert_exporter": "python",
   "pygments_lexer": "ipython3",
   "version": "3.6.6"
  }
 },
 "nbformat": 4,
 "nbformat_minor": 2
}
